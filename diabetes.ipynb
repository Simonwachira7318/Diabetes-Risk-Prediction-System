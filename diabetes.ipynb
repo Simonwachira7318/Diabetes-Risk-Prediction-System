{
 "cells": [
  {
   "cell_type": "code",
   "execution_count": 1,
   "metadata": {},
   "outputs": [],
   "source": [
    "import pandas as pd\n",
    "import numpy as np\n",
    "from sklearn.model_selection import train_test_split\n",
    "from sklearn.preprocessing import StandardScaler"
   ]
  },
  {
   "cell_type": "code",
   "execution_count": 2,
   "metadata": {},
   "outputs": [],
   "source": [
    "df = pd.read_csv('./Diabetes.csv')"
   ]
  },
  {
   "cell_type": "code",
   "execution_count": 3,
   "metadata": {},
   "outputs": [
    {
     "name": "stdout",
     "output_type": "stream",
     "text": [
      "   pregnancies  glucose  diastolic  triceps  insulin   bmi    dpf  age  \\\n",
      "0            6      148         72       35        0  33.6  0.627   50   \n",
      "1            1       85         66       29        0  26.6  0.351   31   \n",
      "2            8      183         64        0        0  23.3  0.672   32   \n",
      "3            1       89         66       23       94  28.1  0.167   21   \n",
      "4            0      137         40       35      168  43.1  2.288   33   \n",
      "\n",
      "   diabetes  \n",
      "0         1  \n",
      "1         0  \n",
      "2         1  \n",
      "3         0  \n",
      "4         1  \n"
     ]
    }
   ],
   "source": [
    "print(df.head())"
   ]
  },
  {
   "cell_type": "code",
   "execution_count": 4,
   "metadata": {},
   "outputs": [
    {
     "name": "stdout",
     "output_type": "stream",
     "text": [
      "pregnancies    0\n",
      "glucose        0\n",
      "diastolic      0\n",
      "triceps        0\n",
      "insulin        0\n",
      "bmi            0\n",
      "dpf            0\n",
      "age            0\n",
      "diabetes       0\n",
      "dtype: int64\n"
     ]
    }
   ],
   "source": [
    "print(df.isnull().sum())"
   ]
  },
  {
   "cell_type": "code",
   "execution_count": 7,
   "metadata": {},
   "outputs": [
    {
     "name": "stdout",
     "output_type": "stream",
     "text": [
      "Index(['pregnancies', 'glucose', 'diastolic', 'triceps', 'insulin', 'bmi',\n",
      "       'dpf', 'age', 'diabetes'],\n",
      "      dtype='object')\n"
     ]
    }
   ],
   "source": [
    "print(df.columns)"
   ]
  },
  {
   "cell_type": "code",
   "execution_count": 9,
   "metadata": {},
   "outputs": [
    {
     "name": "stderr",
     "output_type": "stream",
     "text": [
      "C:\\Users\\SIMON WACHIRA\\AppData\\Local\\Temp\\ipykernel_13592\\1626830843.py:3: FutureWarning: Downcasting object dtype arrays on .fillna, .ffill, .bfill is deprecated and will change in a future version. Call result.infer_objects(copy=False) instead. To opt-in to the future behavior, set `pd.set_option('future.no_silent_downcasting', True)`\n",
      "  df.fillna(df.mean(), inplace=True)\n"
     ]
    }
   ],
   "source": [
    "columns_to_replace = ['glucose', 'diastolic', 'triceps', 'insulin', 'bmi']  # Corrected capitalization\n",
    "df[columns_to_replace] = df[columns_to_replace].replace(0, pd.NA)\n",
    "df.fillna(df.mean(), inplace=True)"
   ]
  },
  {
   "cell_type": "code",
   "execution_count": 10,
   "metadata": {},
   "outputs": [
    {
     "name": "stdout",
     "output_type": "stream",
     "text": [
      "pregnancies      int64\n",
      "glucose        float64\n",
      "diastolic      float64\n",
      "triceps        float64\n",
      "insulin        float64\n",
      "bmi            float64\n",
      "dpf            float64\n",
      "age              int64\n",
      "diabetes         int64\n",
      "dtype: object\n"
     ]
    }
   ],
   "source": [
    "print(df.dtypes)"
   ]
  },
  {
   "cell_type": "code",
   "execution_count": 12,
   "metadata": {},
   "outputs": [],
   "source": [
    "X = df.drop('diabetes', axis=1)\n",
    "y = df['diabetes']\n"
   ]
  },
  {
   "cell_type": "code",
   "execution_count": 13,
   "metadata": {},
   "outputs": [
    {
     "name": "stdout",
     "output_type": "stream",
     "text": [
      "[[ 0.63994726  0.86510807 -0.03351824 ...  0.16629174  0.46849198\n",
      "   1.4259954 ]\n",
      " [-0.84488505 -1.20616153 -0.52985903 ... -0.85253118 -0.36506078\n",
      "  -0.19067191]\n",
      " [ 1.23388019  2.0158134  -0.69530596 ... -1.33283341  0.60439732\n",
      "  -0.10558415]\n",
      " ...\n",
      " [ 0.3429808  -0.0225789  -0.03351824 ... -0.91074963 -0.68519336\n",
      "  -0.27575966]\n",
      " [-0.84488505  0.14180757 -1.02619983 ... -0.34311972 -0.37110101\n",
      "   1.17073215]\n",
      " [-0.84488505 -0.94314317 -0.19896517 ... -0.29945588 -0.47378505\n",
      "  -0.87137393]]\n"
     ]
    }
   ],
   "source": [
    "from sklearn.preprocessing import StandardScaler\n",
    "\n",
    "# Assuming 'X' is your feature matrix\n",
    "scaler = StandardScaler()\n",
    "X_scaled = scaler.fit_transform(X)\n",
    "\n",
    "# Now you can use X_scaled\n",
    "print(X_scaled)"
   ]
  },
  {
   "cell_type": "code",
   "execution_count": 14,
   "metadata": {},
   "outputs": [],
   "source": [
    "from sklearn.model_selection import train_test_split\n",
    "\n",
    "X_train, X_test, y_train, y_test = train_test_split(X_scaled, y, test_size=0.2, random_state=42)"
   ]
  },
  {
   "cell_type": "code",
   "execution_count": 15,
   "metadata": {},
   "outputs": [
    {
     "name": "stdout",
     "output_type": "stream",
     "text": [
      "Training set shape: (614, 8), Testing set shape: (154, 8)\n"
     ]
    }
   ],
   "source": [
    "print(f'Training set shape: {X_train.shape}, Testing set shape: {X_test.shape}')"
   ]
  },
  {
   "cell_type": "code",
   "execution_count": 16,
   "metadata": {},
   "outputs": [],
   "source": [
    "df['BMI_Glucose_Interaction'] = df['bmi'] * df['glucose']"
   ]
  },
  {
   "cell_type": "code",
   "execution_count": 17,
   "metadata": {},
   "outputs": [],
   "source": [
    "from sklearn.preprocessing import PolynomialFeatures\n",
    "\n",
    "poly = PolynomialFeatures(degree=2, include_bias=False) \n",
    "poly_features = poly.fit_transform(df[['glucose', 'bmi']]) \n",
    "poly_feature_names = poly.get_feature_names_out(['glucose', 'bmi']) \n",
    "poly_df = pd.DataFrame(poly_features, columns=poly_feature_names)"
   ]
  },
  {
   "cell_type": "code",
   "execution_count": 18,
   "metadata": {},
   "outputs": [],
   "source": [
    "df = pd.concat([df, poly_df], axis=1)"
   ]
  },
  {
   "cell_type": "code",
   "execution_count": 20,
   "metadata": {},
   "outputs": [],
   "source": [
    "df['Triceps_Diastolic_Sum'] = df['triceps'] + df['diastolic']"
   ]
  },
  {
   "cell_type": "code",
   "execution_count": 21,
   "metadata": {},
   "outputs": [],
   "source": [
    "bins = [0, 30, 40, 50, 60, 70, 80, 90] \n",
    "labels = ['<30', '30-39', '40-49', '50-59', '60-69', '70-79', '80+'] \n",
    "df['Age_Group'] = pd.cut(df['age'], bins=bins, labels=labels)"
   ]
  },
  {
   "cell_type": "code",
   "execution_count": 22,
   "metadata": {},
   "outputs": [],
   "source": [
    "import numpy as np\n",
    "\n",
    "df['log_insulin'] = np.log1p(df['insulin']) \n",
    "df['log_pregnancies'] = np.log1p(df['pregnancies'])"
   ]
  },
  {
   "cell_type": "code",
   "execution_count": 23,
   "metadata": {},
   "outputs": [],
   "source": [
    "df['DPF_Age_Interaction'] = df['dpf'] * df['age']"
   ]
  },
  {
   "cell_type": "code",
   "execution_count": 24,
   "metadata": {},
   "outputs": [
    {
     "name": "stdout",
     "output_type": "stream",
     "text": [
      "   pregnancies  glucose  diastolic   triceps     insulin   bmi    dpf  age  \\\n",
      "0            6    148.0       72.0  35.00000  155.548223  33.6  0.627   50   \n",
      "1            1     85.0       66.0  29.00000  155.548223  26.6  0.351   31   \n",
      "2            8    183.0       64.0  29.15342  155.548223  23.3  0.672   32   \n",
      "3            1     89.0       66.0  23.00000   94.000000  28.1  0.167   21   \n",
      "4            0    137.0       40.0  35.00000  168.000000  43.1  2.288   33   \n",
      "\n",
      "   diabetes  BMI_Glucose_Interaction  glucose   bmi  glucose^2  glucose bmi  \\\n",
      "0         1                   4972.8    148.0  33.6    21904.0       4972.8   \n",
      "1         0                   2261.0     85.0  26.6     7225.0       2261.0   \n",
      "2         1                   4263.9    183.0  23.3    33489.0       4263.9   \n",
      "3         0                   2500.9     89.0  28.1     7921.0       2500.9   \n",
      "4         1                   5904.7    137.0  43.1    18769.0       5904.7   \n",
      "\n",
      "     bmi^2  Triceps_Diastolic_Sum Age_Group  log_insulin  log_pregnancies  \\\n",
      "0  1128.96              107.00000     40-49     5.053364         1.945910   \n",
      "1   707.56               95.00000     30-39     5.053364         0.693147   \n",
      "2   542.89               93.15342     30-39     5.053364         2.197225   \n",
      "3   789.61               89.00000       <30     4.553877         0.693147   \n",
      "4  1857.61               75.00000     30-39     5.129899         0.000000   \n",
      "\n",
      "   DPF_Age_Interaction  \n",
      "0               31.350  \n",
      "1               10.881  \n",
      "2               21.504  \n",
      "3                3.507  \n",
      "4               75.504  \n"
     ]
    }
   ],
   "source": [
    "print(df.head())"
   ]
  }
 ],
 "metadata": {
  "kernelspec": {
   "display_name": "base",
   "language": "python",
   "name": "python3"
  },
  "language_info": {
   "codemirror_mode": {
    "name": "ipython",
    "version": 3
   },
   "file_extension": ".py",
   "mimetype": "text/x-python",
   "name": "python",
   "nbconvert_exporter": "python",
   "pygments_lexer": "ipython3",
   "version": "3.12.7"
  }
 },
 "nbformat": 4,
 "nbformat_minor": 2
}
